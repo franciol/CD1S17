{
 "cells": [
  {
   "cell_type": "markdown",
   "metadata": {},
   "source": [
    "___\n",
    "# Atividade: Variáveis quantitativas com Expectativa de Vida\n",
    "___\n",
    "\n",
    "## Aula 03\n",
    "\n",
    "\n",
    "\n",
    "**Preparo prévio:**\n",
    "1.\tLeitura prévia necessária: Magalhães e Lima (7ª. Edição): pág. 9 a 17 – destacando para variáveis quantitativas; pág. 106 e 107 (Definição 4.1 e Exemplo 4.1).\n",
    "\n",
    "**Hoje:**\n",
    "1. Explorar a variável quantitativa Expectativa de Vida de diversos países do mundo nos anos: 1800, 1926 e 2000. \n",
    "2. Construir tabelas de frequências e interpretar resultados considerando variáveis quantitativas de forma univariada. \n",
    "4. Explicar vantagens e desvantagens sobre o uso da frequência ou da densidade na construção de um histograma e saber interpretá-lo. \n",
    "5. Desenvolver contas para obtenção da média e mediana nos três anos.\n",
    "6. Identificar o formato dos dados (simétrico, assimétrico positivo ou assimétrico negativo) ao observar um histograma e explicar o que cada formato pode impactar nas medidas de posição.\n",
    "\n",
    "\n",
    "**Próxima aula:**\n",
    "1. Leitura prévia necessária: Magalhães e Lima (7ª. Edição): pág. 18 a 25; pág. 106 e 107 (Definição 4.1 e Exemplo 4.1); pág. 116 e 117 (Definição 4.4 e Exemplo 4.8). \n",
    "2. Leitura prévia necessária: Montgomery et al (5ª. Edição): pág. 24 a 28.\n",
    "___\n"
   ]
  },
  {
   "cell_type": "markdown",
   "metadata": {},
   "source": [
    "## <font color='blue'>Expectativa de Vida - LIFE</font>\n",
    "\n",
    "O Banco Mundial (http://data.worldbank.org/brazilian-portuguese) disponibiliza bases de dados estatísticos para um pouco mais de 200 países do mundo desde o ano 1800, as quais consideram uma seleção abrangente de indicadores econômicos, sociais e ambientais. Um desses indicadores é a expectativa de vida (em anos) de cada país.\n",
    "\n",
    "O arquivo `Life.xlsx` contém a expectativa de vida de vários países para os anos 1800, 1926 e 2000.\n",
    "\n",
    "Considerando esses dados, faça as seguintes tarefas:\n",
    "\n",
    "1.\tConstrua uma tabela de frequências absolutas e relativas (em %) para cada um dos anos. \n",
    "\n",
    "2.\tConstrua um histograma para cada ano e interprete os gráficos. \n",
    "\n",
    "3. De acordo com o formato de um histograma, é possível classificar a distribuição dos dados como sendo: simétrica, assimétrica positiva (ou a direita) ou assimétrica negativa (ou a esquerda). Observando o formato de cada histograma construído no item anterior, classifique como sendo simétrico, assimétrico positivo ou assimétrico negativo. Argumente claramente o motivo de sua classificação. \n",
    "![AssimSim](AssimSim.jpg)\n",
    "\n",
    "4.\tPara cada ano, calcule a expectativa média de vida, a expectativa mediana de vida e a classe modal.\n",
    "\n",
    "5.\tPara cada um dos três anos, ordene os valores das medidas de posição (média, mediana e classe modal) obtidas no item anterior. A ordem dessas três medidas de posição é um mero acaso ou pode ser consequência do formato dos dados? Argumente claramente sua resposta.\n"
   ]
  },
  {
   "cell_type": "code",
   "execution_count": 1,
   "metadata": {
    "collapsed": false
   },
   "outputs": [],
   "source": [
    "%matplotlib inline\n",
    "import pandas as pd\n",
    "import matplotlib.pyplot as plt\n",
    "import os\n",
    "from numpy import arange"
   ]
  },
  {
   "cell_type": "code",
   "execution_count": 2,
   "metadata": {
    "collapsed": false
   },
   "outputs": [
    {
     "name": "stdout",
     "output_type": "stream",
     "text": [
      "Esperamos trabalhar no diretório\n",
      "C:\\Users\\frana\\Downloads\\CD1S17-master\\CD1S17-master\\Aula 3 Atividade\n"
     ]
    }
   ],
   "source": [
    "print('Esperamos trabalhar no diretório')\n",
    "print(os.getcwd())"
   ]
  },
  {
   "cell_type": "code",
   "execution_count": 3,
   "metadata": {
    "collapsed": false
   },
   "outputs": [],
   "source": [
    "dados = pd.read_excel('Life.xlsx')"
   ]
  },
  {
   "cell_type": "code",
   "execution_count": 4,
   "metadata": {
    "collapsed": false
   },
   "outputs": [
    {
     "data": {
      "text/html": [
       "<div>\n",
       "<table border=\"1\" class=\"dataframe\">\n",
       "  <thead>\n",
       "    <tr style=\"text-align: right;\">\n",
       "      <th></th>\n",
       "      <th>Pais</th>\n",
       "      <th>L1800</th>\n",
       "      <th>L1926</th>\n",
       "      <th>L2000</th>\n",
       "    </tr>\n",
       "  </thead>\n",
       "  <tbody>\n",
       "    <tr>\n",
       "      <th>0</th>\n",
       "      <td>Afghanistan</td>\n",
       "      <td>28.2110</td>\n",
       "      <td>26.919920</td>\n",
       "      <td>51.0</td>\n",
       "    </tr>\n",
       "    <tr>\n",
       "      <th>1</th>\n",
       "      <td>Albania</td>\n",
       "      <td>35.4000</td>\n",
       "      <td>35.400000</td>\n",
       "      <td>74.2</td>\n",
       "    </tr>\n",
       "    <tr>\n",
       "      <th>2</th>\n",
       "      <td>Algeria</td>\n",
       "      <td>28.8224</td>\n",
       "      <td>30.968000</td>\n",
       "      <td>73.2</td>\n",
       "    </tr>\n",
       "    <tr>\n",
       "      <th>3</th>\n",
       "      <td>Angola</td>\n",
       "      <td>26.9800</td>\n",
       "      <td>26.980000</td>\n",
       "      <td>52.6</td>\n",
       "    </tr>\n",
       "    <tr>\n",
       "      <th>4</th>\n",
       "      <td>Antigua and Barbuda</td>\n",
       "      <td>33.5360</td>\n",
       "      <td>37.673931</td>\n",
       "      <td>73.9</td>\n",
       "    </tr>\n",
       "  </tbody>\n",
       "</table>\n",
       "</div>"
      ],
      "text/plain": [
       "                  Pais    L1800      L1926  L2000\n",
       "0          Afghanistan  28.2110  26.919920   51.0\n",
       "1              Albania  35.4000  35.400000   74.2\n",
       "2              Algeria  28.8224  30.968000   73.2\n",
       "3               Angola  26.9800  26.980000   52.6\n",
       "4  Antigua and Barbuda  33.5360  37.673931   73.9"
      ]
     },
     "execution_count": 4,
     "metadata": {},
     "output_type": "execute_result"
    }
   ],
   "source": [
    "dados.head()"
   ]
  },
  {
   "cell_type": "code",
   "execution_count": 5,
   "metadata": {
    "collapsed": true
   },
   "outputs": [],
   "source": [
    "dados_1800 = dados.iloc[:,-3]\n",
    "dados_1926 = dados.iloc[:,-2]\n",
    "dados_2000 = dados.iloc[:,-1]"
   ]
  },
  {
   "cell_type": "code",
   "execution_count": 6,
   "metadata": {
    "collapsed": false
   },
   "outputs": [
    {
     "name": "stdout",
     "output_type": "stream",
     "text": [
      "Descrição geral dos dados da amostra de 1800\n"
     ]
    },
    {
     "data": {
      "text/plain": [
       "count    201.000000\n",
       "mean      31.485800\n",
       "std        3.763625\n",
       "min       23.387000\n",
       "25%       29.000000\n",
       "50%       31.800000\n",
       "75%       33.900000\n",
       "max       42.845599\n",
       "Name: L1800, dtype: float64"
      ]
     },
     "execution_count": 6,
     "metadata": {},
     "output_type": "execute_result"
    }
   ],
   "source": [
    "print ('Descrição geral dos dados da amostra de 1800')\n",
    "\n",
    "dados_1800.describe()"
   ]
  },
  {
   "cell_type": "code",
   "execution_count": 7,
   "metadata": {
    "collapsed": false
   },
   "outputs": [
    {
     "name": "stdout",
     "output_type": "stream",
     "text": [
      "Descrição geral dos dados da amostra de 1926\n"
     ]
    },
    {
     "data": {
      "text/plain": [
       "count    201.000000\n",
       "mean      36.353496\n",
       "std        9.590987\n",
       "min       23.387000\n",
       "25%       30.400000\n",
       "50%       32.800000\n",
       "75%       39.360000\n",
       "max       63.260000\n",
       "Name: L1926, dtype: float64"
      ]
     },
     "execution_count": 7,
     "metadata": {},
     "output_type": "execute_result"
    }
   ],
   "source": [
    "print ('Descrição geral dos dados da amostra de 1926')\n",
    "\n",
    "dados_1926.describe()"
   ]
  },
  {
   "cell_type": "code",
   "execution_count": 8,
   "metadata": {
    "collapsed": false
   },
   "outputs": [
    {
     "name": "stdout",
     "output_type": "stream",
     "text": [
      "Descrição geral dos dados da amostra de 2000\n"
     ]
    },
    {
     "data": {
      "text/plain": [
       "count    201.000000\n",
       "mean      68.012856\n",
       "std        9.211812\n",
       "min       45.700000\n",
       "25%       61.400000\n",
       "50%       71.200000\n",
       "75%       75.000000\n",
       "max       81.100000\n",
       "Name: L2000, dtype: float64"
      ]
     },
     "execution_count": 8,
     "metadata": {},
     "output_type": "execute_result"
    }
   ],
   "source": [
    "print ('Descrição geral dos dados da amostra de 2000')\n",
    "dados_2000.describe()"
   ]
  },
  {
   "cell_type": "code",
   "execution_count": 9,
   "metadata": {
    "collapsed": false
   },
   "outputs": [],
   "source": [
    "faixa = arange(23, 81, 3)"
   ]
  },
  {
   "cell_type": "code",
   "execution_count": 10,
   "metadata": {
    "collapsed": false
   },
   "outputs": [],
   "source": [
    "dados_1800cat = pd.cut(dados_1800, faixa, False)\n",
    "dados_1926cat = pd.cut(dados_1926, faixa, False)\n",
    "dados_2000cat = pd.cut(dados_2000, faixa, False)\n"
   ]
  },
  {
   "cell_type": "code",
   "execution_count": 26,
   "metadata": {
    "collapsed": false,
    "scrolled": true
   },
   "outputs": [
    {
     "name": "stdout",
     "output_type": "stream",
     "text": [
      "Frequências absolutas\n"
     ]
    },
    {
     "data": {
      "text/html": [
       "<div>\n",
       "<table border=\"1\" class=\"dataframe\">\n",
       "  <thead>\n",
       "    <tr style=\"text-align: right;\">\n",
       "      <th></th>\n",
       "      <th>L1800</th>\n",
       "      <th>L1800</th>\n",
       "    </tr>\n",
       "  </thead>\n",
       "  <tbody>\n",
       "    <tr>\n",
       "      <th>0</th>\n",
       "      <td>28.211</td>\n",
       "      <td>[26, 29)</td>\n",
       "    </tr>\n",
       "    <tr>\n",
       "      <th>1</th>\n",
       "      <td>35.4</td>\n",
       "      <td>[35, 38)</td>\n",
       "    </tr>\n",
       "    <tr>\n",
       "      <th>2</th>\n",
       "      <td>28.8224</td>\n",
       "      <td>[26, 29)</td>\n",
       "    </tr>\n",
       "    <tr>\n",
       "      <th>3</th>\n",
       "      <td>26.98</td>\n",
       "      <td>[26, 29)</td>\n",
       "    </tr>\n",
       "    <tr>\n",
       "      <th>4</th>\n",
       "      <td>33.536</td>\n",
       "      <td>[32, 35)</td>\n",
       "    </tr>\n",
       "  </tbody>\n",
       "</table>\n",
       "</div>"
      ],
      "text/plain": [
       "     L1800     L1800\n",
       "0   28.211  [26, 29)\n",
       "1     35.4  [35, 38)\n",
       "2  28.8224  [26, 29)\n",
       "3    26.98  [26, 29)\n",
       "4   33.536  [32, 35)"
      ]
     },
     "execution_count": 26,
     "metadata": {},
     "output_type": "execute_result"
    }
   ],
   "source": [
    "print('Frequências absolutas')\n",
    "\n",
    "pd.DataFrame([dados_1800, dados_1800cat]).T.head()"
   ]
  },
  {
   "cell_type": "code",
   "execution_count": 24,
   "metadata": {
    "collapsed": false,
    "scrolled": false
   },
   "outputs": [
    {
     "name": "stdout",
     "output_type": "stream",
     "text": [
      "Frequências absolutas\n"
     ]
    },
    {
     "data": {
      "text/html": [
       "<div>\n",
       "<table border=\"1\" class=\"dataframe\">\n",
       "  <thead>\n",
       "    <tr style=\"text-align: right;\">\n",
       "      <th></th>\n",
       "      <th>L1926</th>\n",
       "      <th>L1926</th>\n",
       "    </tr>\n",
       "  </thead>\n",
       "  <tbody>\n",
       "    <tr>\n",
       "      <th>0</th>\n",
       "      <td>26.9199</td>\n",
       "      <td>[26, 29)</td>\n",
       "    </tr>\n",
       "    <tr>\n",
       "      <th>1</th>\n",
       "      <td>35.4</td>\n",
       "      <td>[35, 38)</td>\n",
       "    </tr>\n",
       "    <tr>\n",
       "      <th>2</th>\n",
       "      <td>30.968</td>\n",
       "      <td>[29, 32)</td>\n",
       "    </tr>\n",
       "    <tr>\n",
       "      <th>3</th>\n",
       "      <td>26.98</td>\n",
       "      <td>[26, 29)</td>\n",
       "    </tr>\n",
       "    <tr>\n",
       "      <th>4</th>\n",
       "      <td>37.6739</td>\n",
       "      <td>[35, 38)</td>\n",
       "    </tr>\n",
       "  </tbody>\n",
       "</table>\n",
       "</div>"
      ],
      "text/plain": [
       "     L1926     L1926\n",
       "0  26.9199  [26, 29)\n",
       "1     35.4  [35, 38)\n",
       "2   30.968  [29, 32)\n",
       "3    26.98  [26, 29)\n",
       "4  37.6739  [35, 38)"
      ]
     },
     "execution_count": 24,
     "metadata": {},
     "output_type": "execute_result"
    }
   ],
   "source": [
    "print('Frequências absolutas')\n",
    "\n",
    "pd.DataFrame([dados_1926, dados_1926cat]).T.head()"
   ]
  },
  {
   "cell_type": "code",
   "execution_count": 25,
   "metadata": {
    "collapsed": false,
    "scrolled": true
   },
   "outputs": [
    {
     "name": "stdout",
     "output_type": "stream",
     "text": [
      "Frequências absolutas\n"
     ]
    },
    {
     "data": {
      "text/html": [
       "<div>\n",
       "<table border=\"1\" class=\"dataframe\">\n",
       "  <thead>\n",
       "    <tr style=\"text-align: right;\">\n",
       "      <th></th>\n",
       "      <th>L2000</th>\n",
       "      <th>L2000</th>\n",
       "    </tr>\n",
       "  </thead>\n",
       "  <tbody>\n",
       "    <tr>\n",
       "      <th>0</th>\n",
       "      <td>51</td>\n",
       "      <td>[50, 53)</td>\n",
       "    </tr>\n",
       "    <tr>\n",
       "      <th>1</th>\n",
       "      <td>74.2</td>\n",
       "      <td>[74, 77)</td>\n",
       "    </tr>\n",
       "    <tr>\n",
       "      <th>2</th>\n",
       "      <td>73.2</td>\n",
       "      <td>[71, 74)</td>\n",
       "    </tr>\n",
       "    <tr>\n",
       "      <th>3</th>\n",
       "      <td>52.6</td>\n",
       "      <td>[50, 53)</td>\n",
       "    </tr>\n",
       "    <tr>\n",
       "      <th>4</th>\n",
       "      <td>73.9</td>\n",
       "      <td>[71, 74)</td>\n",
       "    </tr>\n",
       "  </tbody>\n",
       "</table>\n",
       "</div>"
      ],
      "text/plain": [
       "  L2000     L2000\n",
       "0    51  [50, 53)\n",
       "1  74.2  [74, 77)\n",
       "2  73.2  [71, 74)\n",
       "3  52.6  [50, 53)\n",
       "4  73.9  [71, 74)"
      ]
     },
     "execution_count": 25,
     "metadata": {},
     "output_type": "execute_result"
    }
   ],
   "source": [
    "print('Frequências absolutas')\n",
    "\n",
    "pd.DataFrame([dados_2000, dados_2000cat]).T.head()"
   ]
  },
  {
   "cell_type": "code",
   "execution_count": 14,
   "metadata": {
    "collapsed": false
   },
   "outputs": [
    {
     "name": "stdout",
     "output_type": "stream",
     "text": [
      "Frequências relativas:\n",
      "Tabela de frequências relativas de 1800, por faixa\n",
      "[23, 26)    10.4\n",
      "[26, 29)    14.4\n",
      "[29, 32)    26.9\n",
      "[32, 35)    29.4\n",
      "[35, 38)    13.9\n",
      "[38, 41)     4.5\n",
      "[41, 44)     0.5\n",
      "[44, 47)     0.0\n",
      "[47, 50)     0.0\n",
      "[50, 53)     0.0\n",
      "[53, 56)     0.0\n",
      "[56, 59)     0.0\n",
      "[59, 62)     0.0\n",
      "[62, 65)     0.0\n",
      "[65, 68)     0.0\n",
      "[68, 71)     0.0\n",
      "[71, 74)     0.0\n",
      "[74, 77)     0.0\n",
      "[77, 80)     0.0\n",
      "Name: L1800, dtype: float64 \n",
      "\n"
     ]
    }
   ],
   "source": [
    "print('Frequências relativas:')\n",
    "ut1 = (dados_1800cat.value_counts(True)*100).round(decimals=1).sort_index(ascending=True)\n",
    "print ('Tabela de frequências relativas de 1800, por faixa')\n",
    "print(ut1,'\\n')"
   ]
  },
  {
   "cell_type": "code",
   "execution_count": 15,
   "metadata": {
    "collapsed": false
   },
   "outputs": [
    {
     "name": "stdout",
     "output_type": "stream",
     "text": [
      "Tabela de frequências relativas de 1926, por faixa\n",
      "[23, 26)     6.5\n",
      "[26, 29)    10.0\n",
      "[29, 32)    23.9\n",
      "[32, 35)    19.9\n",
      "[35, 38)     9.0\n",
      "[38, 41)    10.9\n",
      "[41, 44)     1.5\n",
      "[44, 47)     2.5\n",
      "[47, 50)     3.0\n",
      "[50, 53)     2.5\n",
      "[53, 56)     3.5\n",
      "[56, 59)     2.5\n",
      "[59, 62)     2.5\n",
      "[62, 65)     2.0\n",
      "[65, 68)     0.0\n",
      "[68, 71)     0.0\n",
      "[71, 74)     0.0\n",
      "[74, 77)     0.0\n",
      "[77, 80)     0.0\n",
      "Name: L1926, dtype: float64 \n",
      "\n"
     ]
    }
   ],
   "source": [
    "pd.DataFrame([dados_1926, dados_1926cat]).T\n",
    "ut2 = (dados_1926cat.value_counts(True)*100).round(decimals=1).sort_index(ascending=True)\n",
    "print ('Tabela de frequências relativas de 1926, por faixa')\n",
    "print(ut2,'\\n')"
   ]
  },
  {
   "cell_type": "code",
   "execution_count": 16,
   "metadata": {
    "collapsed": false,
    "scrolled": false
   },
   "outputs": [
    {
     "name": "stdout",
     "output_type": "stream",
     "text": [
      "Tabela de frequências relativas de 2000, por faixa\n",
      "[23, 26)     0.0\n",
      "[26, 29)     0.0\n",
      "[29, 32)     0.0\n",
      "[32, 35)     0.0\n",
      "[35, 38)     0.0\n",
      "[38, 41)     0.0\n",
      "[41, 44)     0.0\n",
      "[44, 47)     1.5\n",
      "[47, 50)     2.0\n",
      "[50, 53)     7.6\n",
      "[53, 56)     5.6\n",
      "[56, 59)     2.5\n",
      "[59, 62)     8.1\n",
      "[62, 65)     7.1\n",
      "[65, 68)     4.5\n",
      "[68, 71)    11.1\n",
      "[71, 74)    19.2\n",
      "[74, 77)    15.7\n",
      "[77, 80)    15.2\n",
      "Name: L2000, dtype: float64 \n",
      "\n"
     ]
    }
   ],
   "source": [
    "pd.DataFrame([dados_2000, dados_2000cat]).T\n",
    "ut3 = (dados_2000cat.value_counts(True)*100).round(decimals=1).sort_index(ascending=True)\n",
    "print ('Tabela de frequências relativas de 2000, por faixa')\n",
    "print(ut3,'\\n')"
   ]
  },
  {
   "cell_type": "code",
   "execution_count": 17,
   "metadata": {
    "collapsed": false
   },
   "outputs": [
    {
     "data": {
      "text/plain": [
       "<matplotlib.text.Text at 0x2c84bc9a630>"
      ]
     },
     "execution_count": 17,
     "metadata": {},
     "output_type": "execute_result"
    },
    {
     "data": {
      "image/png": "[encoded data removed]",
      "text/plain": [
       "<matplotlib.figure.Figure at 0x2c84bab0978>"
      ]
     },
     "metadata": {},
     "output_type": "display_data"
    }
   ],
   "source": [
    "# Gráfico de colunas com frequência absoluta\n",
    "plot = dados_1800.plot.hist(bins=faixa,title='Gráfico de colunas (não é histograma) - 1800', figsize=(6, 6), alpha=0.5)\n",
    "plt.ylabel('Frequência absoluta')\n",
    "plt.xlabel('Idade das pessoas (em anos)')"
   ]
  },
  {
   "cell_type": "code",
   "execution_count": 18,
   "metadata": {
    "collapsed": false
   },
   "outputs": [
    {
     "data": {
      "text/plain": [
       "<matplotlib.text.Text at 0x2c84bfe8198>"
      ]
     },
     "execution_count": 18,
     "metadata": {},
     "output_type": "execute_result"
    },
    {
     "data": {
      "image/png": "[encoded data removed]",
      "text/plain": [
       "<matplotlib.figure.Figure at 0x2c84bf002e8>"
      ]
     },
     "metadata": {},
     "output_type": "display_data"
    }
   ],
   "source": [
    "# Gráfico de colunas com frequência absoluta\n",
    "plot = dados_1926.plot.hist(bins=faixa,title='Gráfico de colunas (não é histograma) - 1926', figsize=(6, 6), alpha=0.5)\n",
    "plt.ylabel('Frequência absoluta')\n",
    "plt.xlabel('Idade das pessoas (em anos)')"
   ]
  },
  {
   "cell_type": "code",
   "execution_count": 19,
   "metadata": {
    "collapsed": false
   },
   "outputs": [
    {
     "data": {
      "text/plain": [
       "<matplotlib.text.Text at 0x2c84c0b5a20>"
      ]
     },
     "execution_count": 19,
     "metadata": {},
     "output_type": "execute_result"
    },
    {
     "data": {
      "image/png": "[encoded data removed]",
      "text/plain": [
       "<matplotlib.figure.Figure at 0x2c84c07a470>"
      ]
     },
     "metadata": {},
     "output_type": "display_data"
    }
   ],
   "source": [
    "\n",
    "\n",
    "# Gráfico de colunas com frequência absoluta\n",
    "plot = dados_2000.plot.hist(bins=faixa,title='Gráfico de colunas (não é histograma) - 2000', figsize=(6, 6), alpha=0.5)\n",
    "plt.ylabel('Frequência absoluta')\n",
    "plt.xlabel('Idade das pessoas (em anos)')"
   ]
  },
  {
   "cell_type": "code",
   "execution_count": 20,
   "metadata": {
    "collapsed": false
   },
   "outputs": [
    {
     "data": {
      "text/plain": [
       "<matplotlib.legend.Legend at 0x2c84c20d0f0>"
      ]
     },
     "execution_count": 20,
     "metadata": {},
     "output_type": "execute_result"
    },
    {
     "data": {
      "image/png": "[encoded data removed]",
      "text/plain": [
       "<matplotlib.figure.Figure at 0x2c84c17aef0>"
      ]
     },
     "metadata": {},
     "output_type": "display_data"
    }
   ],
   "source": [
    "# Gráfico de colunas com frequência absoluta\n",
    "plot = dados_1800.plot.hist(bins=faixa,title='Histograma - 1800', normed = 1, figsize=(6, 6), alpha=0.5)\n",
    "plt.ylabel('Frequência relativa, densidade')\n",
    "plt.xlabel('Idade das pessoas (em anos)')\n",
    "plt.axvspan(31, 31.2, color='red', alpha=0.5)\n",
    "plt.axvspan(31.8, 32, color='green', alpha=0.5)\n",
    "plot.legend(('Pessoas','Média', 'Mediana'), loc='best')"
   ]
  },
  {
   "cell_type": "code",
   "execution_count": 21,
   "metadata": {
    "collapsed": false
   },
   "outputs": [
    {
     "data": {
      "text/plain": [
       "<matplotlib.legend.Legend at 0x2c84c3671d0>"
      ]
     },
     "execution_count": 21,
     "metadata": {},
     "output_type": "execute_result"
    },
    {
     "data": {
      "image/png": "[encoded data removed]",
      "text/plain": [
       "<matplotlib.figure.Figure at 0x2c84c213668>"
      ]
     },
     "metadata": {},
     "output_type": "display_data"
    }
   ],
   "source": [
    "# Gráfico de colunas com frequência absoluta\n",
    "plot = dados_1926.plot.hist(bins=faixa,title='Histograma - 1926', normed = 1, figsize=(6, 6), alpha=0.5)\n",
    "plt.ylabel('Frequência relativa, densidade')\n",
    "plt.xlabel('Idade das pessoas (em anos)')\n",
    "plt.axvspan(36, 36.2, color='red', alpha=0.5)\n",
    "plt.axvspan(32.8, 33, color='green', alpha=0.5)\n",
    "plot.legend(('Pessoas','Média', 'Mediana'), loc='best')"
   ]
  },
  {
   "cell_type": "code",
   "execution_count": 22,
   "metadata": {
    "collapsed": false,
    "scrolled": false
   },
   "outputs": [
    {
     "data": {
      "text/plain": [
       "<matplotlib.legend.Legend at 0x2c84c471978>"
      ]
     },
     "execution_count": 22,
     "metadata": {},
     "output_type": "execute_result"
    },
    {
     "data": {
      "image/png": "[encoded data removed]",
      "text/plain": [
       "<matplotlib.figure.Figure at 0x2c84c369908>"
      ]
     },
     "metadata": {},
     "output_type": "display_data"
    }
   ],
   "source": [
    "# Gráfico de colunas com frequência absoluta\n",
    "plot = dados_2000.plot.hist(bins=faixa,title='Histograma - 2000', normed = 1, figsize=(6, 6), alpha=0.5)\n",
    "plt.ylabel('Frequência relativa, densidade')\n",
    "plt.xlabel('Idade das pessoas (em anos)')\n",
    "plt.axvspan(68, 68.2, color='red', alpha=0.5)\n",
    "plt.axvspan(71.2, 71.4, color='green', alpha=0.5)\n",
    "plot.legend(('Pessoas','Média', 'Mediana'), loc='best')\n"
   ]
  },
  {
   "cell_type": "code",
   "execution_count": 23,
   "metadata": {
    "collapsed": false,
    "scrolled": true
   },
   "outputs": [
    {
     "name": "stdout",
     "output_type": "stream",
     "text": [
      "Espectativa de vida média de 1800: 31.485799715054547\n",
      "Espectativa de vida média de 1926: 36.35349645910288\n",
      "Espectativa de vida média de 2000: 68.01285572139301\n",
      "\n",
      "Espectativa de vida mediana em 1800: 31.8\n",
      "Espectativa de vida mediana em 1926: 32.8\n",
      "Espectativa de vida mediana em 2000: 71.2\n"
     ]
    }
   ],
   "source": [
    "print('Espectativa de vida média de 1800:', dados_1800.mean())\n",
    "print('Espectativa de vida média de 1926:', dados_1926.mean())\n",
    "print('Espectativa de vida média de 2000:', dados_2000.mean())\n",
    "print ()\n",
    "print('Espectativa de vida mediana em 1800:', dados_1800.median())\n",
    "print('Espectativa de vida mediana em 1926:', dados_1926.median())\n",
    "print('Espectativa de vida mediana em 2000:', dados_2000.median())"
   ]
  },
  {
   "cell_type": "markdown",
   "metadata": {},
   "source": [
    "## 2\n",
    "A partir da análise dos gráficos, percebe-se que em 1800 a espectativa de vida era mal distribuida e nos outros anos ela comecou a se distribuir mais."
   ]
  },
  {
   "cell_type": "markdown",
   "metadata": {},
   "source": [
    "## 3\n",
    "A vantagem de usar histogramas é que temos uma visualização melhor e mais rápida assim como ainda mantemos relevancia e dados no grafico."
   ]
  },
  {
   "cell_type": "markdown",
   "metadata": {},
   "source": [
    "## 5\n",
    "A ordem das três medidas são mero acaso, pois deriavam ods dados e nao de um formato do arquivo. Nela observa-se que a média de vida é simetrica, enquanto a de 1926 é assimtrico á esquerda e de 2000 é assimetrico á direita "
   ]
  }
 ],
 "metadata": {
  "anaconda-cloud": {},
  "kernelspec": {
   "display_name": "Python 3",
   "language": "python",
   "name": "python3"
  },
  "language_info": {
   "codemirror_mode": {
    "name": "ipython",
    "version": 3
   },
   "file_extension": ".py",
   "mimetype": "text/x-python",
   "name": "python",
   "nbconvert_exporter": "python",
   "pygments_lexer": "ipython3",
   "version": "3.6.0"
  }
 },
 "nbformat": 4,
 "nbformat_minor": 0
}
